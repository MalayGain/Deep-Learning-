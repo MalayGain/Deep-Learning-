{
  "nbformat": 4,
  "nbformat_minor": 0,
  "metadata": {
    "colab": {
      "name": "Comparison between Image classification using CNN and ANN on CIFAR10 dataset.ipynb",
      "provenance": [],
      "toc_visible": true,
      "authorship_tag": "ABX9TyOpxIFYd/c4l6cRu0sMsBW/",
      "include_colab_link": true
    },
    "kernelspec": {
      "name": "python3",
      "display_name": "Python 3"
    },
    "language_info": {
      "name": "python"
    },
    "accelerator": "GPU",
    "gpuClass": "standard"
  },
  "cells": [
    {
      "cell_type": "markdown",
      "metadata": {
        "id": "view-in-github",
        "colab_type": "text"
      },
      "source": [
        "<a href=\"https://colab.research.google.com/github/MalayGain/Deep-Learning-/blob/main/Comparison_between_Image_classification_using_CNN_and_ANN_on_CIFAR10_dataset.ipynb\" target=\"_parent\"><img src=\"https://colab.research.google.com/assets/colab-badge.svg\" alt=\"Open In Colab\"/></a>"
      ]
    },
    {
      "cell_type": "code",
      "execution_count": null,
      "metadata": {
        "id": "-nMubUmrzZiM"
      },
      "outputs": [],
      "source": [
        " import tensorflow as tf\n",
        " from tensorflow.keras import datasets, layers, models\n",
        " import matplotlib.pyplot as plt\n",
        " import numpy as np"
      ]
    },
    {
      "cell_type": "code",
      "source": [
        "(X_train, Y_train), (X_test, Y_test) =datasets.cifar10.load_data()\n",
        "\n",
        "X_train.shape"
      ],
      "metadata": {
        "colab": {
          "base_uri": "https://localhost:8080/"
        },
        "id": "LlYGg_gk2xy1",
        "outputId": "70ee4c8b-4d10-4964-e844-947ef41f98e0"
      },
      "execution_count": null,
      "outputs": [
        {
          "output_type": "execute_result",
          "data": {
            "text/plain": [
              "(50000, 32, 32, 3)"
            ]
          },
          "metadata": {},
          "execution_count": 4
        }
      ]
    },
    {
      "cell_type": "code",
      "source": [
        "Y_train.shape\n",
        "Y_train"
      ],
      "metadata": {
        "colab": {
          "base_uri": "https://localhost:8080/"
        },
        "id": "kDHhKkr979lH",
        "outputId": "e32a2784-3361-4bf6-e013-ab71e3ae0625"
      },
      "execution_count": null,
      "outputs": [
        {
          "output_type": "execute_result",
          "data": {
            "text/plain": [
              "array([[6],\n",
              "       [9],\n",
              "       [9],\n",
              "       ...,\n",
              "       [9],\n",
              "       [1],\n",
              "       [1]], dtype=uint8)"
            ]
          },
          "metadata": {},
          "execution_count": 4
        }
      ]
    },
    {
      "cell_type": "code",
      "source": [
        "\n",
        "classes=[\"aeroplane\",\"automobile\",\"bird\",\"cat\",\"deer\",\"dog\",\"frog\",\"horse\",\"ship\",\"truck\"]"
      ],
      "metadata": {
        "id": "amBJ5E_C8QPD"
      },
      "execution_count": null,
      "outputs": []
    },
    {
      "cell_type": "code",
      "source": [
        "#X_train[2].shape\n",
        "#plt.figure(figsize=(5,2))\n",
        "plt.imshow(X_train[2])\n",
        "#plt.xlabel(classes[Y_train[2][0]])"
      ],
      "metadata": {
        "colab": {
          "base_uri": "https://localhost:8080/",
          "height": 283
        },
        "id": "tdJX4KWV_jit",
        "outputId": "9afdfd69-e5cb-44e1-af84-9b3b8ccdb4dd"
      },
      "execution_count": null,
      "outputs": [
        {
          "output_type": "execute_result",
          "data": {
            "text/plain": [
              "<matplotlib.image.AxesImage at 0x7fb7a6eaea90>"
            ]
          },
          "metadata": {},
          "execution_count": 7
        },
        {
          "output_type": "display_data",
          "data": {
            "text/plain": [
              "<Figure size 432x288 with 1 Axes>"
            ],
            "image/png": "[encoded data removed]"
          },
          "metadata": {
            "needs_background": "light"
          }
        }
      ]
    },
    {
      "cell_type": "code",
      "source": [
        "#normalizining  data pixel vales [r,g,b]\n",
        "\n",
        "X_train=X_train/255\n",
        "X_test=X_test/255\n",
        "X_test"
      ],
      "metadata": {
        "colab": {
          "base_uri": "https://localhost:8080/"
        },
        "id": "4Kpt_IzQEt-i",
        "outputId": "e775bb9e-86e6-43f1-c4b5-eab42f453997"
      },
      "execution_count": null,
      "outputs": [
        {
          "output_type": "execute_result",
          "data": {
            "text/plain": [
              "array([[[[0.61960784, 0.43921569, 0.19215686],\n",
              "         [0.62352941, 0.43529412, 0.18431373],\n",
              "         [0.64705882, 0.45490196, 0.2       ],\n",
              "         ...,\n",
              "         [0.5372549 , 0.37254902, 0.14117647],\n",
              "         [0.49411765, 0.35686275, 0.14117647],\n",
              "         [0.45490196, 0.33333333, 0.12941176]],\n",
              "\n",
              "        [[0.59607843, 0.43921569, 0.2       ],\n",
              "         [0.59215686, 0.43137255, 0.15686275],\n",
              "         [0.62352941, 0.44705882, 0.17647059],\n",
              "         ...,\n",
              "         [0.53333333, 0.37254902, 0.12156863],\n",
              "         [0.49019608, 0.35686275, 0.1254902 ],\n",
              "         [0.46666667, 0.34509804, 0.13333333]],\n",
              "\n",
              "        [[0.59215686, 0.43137255, 0.18431373],\n",
              "         [0.59215686, 0.42745098, 0.12941176],\n",
              "         [0.61960784, 0.43529412, 0.14117647],\n",
              "         ...,\n",
              "         [0.54509804, 0.38431373, 0.13333333],\n",
              "         [0.50980392, 0.37254902, 0.13333333],\n",
              "         [0.47058824, 0.34901961, 0.12941176]],\n",
              "\n",
              "        ...,\n",
              "\n",
              "        [[0.26666667, 0.48627451, 0.69411765],\n",
              "         [0.16470588, 0.39215686, 0.58039216],\n",
              "         [0.12156863, 0.34509804, 0.5372549 ],\n",
              "         ...,\n",
              "         [0.14901961, 0.38039216, 0.57254902],\n",
              "         [0.05098039, 0.25098039, 0.42352941],\n",
              "         [0.15686275, 0.33333333, 0.49803922]],\n",
              "\n",
              "        [[0.23921569, 0.45490196, 0.65882353],\n",
              "         [0.19215686, 0.4       , 0.58039216],\n",
              "         [0.1372549 , 0.33333333, 0.51764706],\n",
              "         ...,\n",
              "         [0.10196078, 0.32156863, 0.50980392],\n",
              "         [0.11372549, 0.32156863, 0.49411765],\n",
              "         [0.07843137, 0.25098039, 0.41960784]],\n",
              "\n",
              "        [[0.21176471, 0.41960784, 0.62745098],\n",
              "         [0.21960784, 0.41176471, 0.58431373],\n",
              "         [0.17647059, 0.34901961, 0.51764706],\n",
              "         ...,\n",
              "         [0.09411765, 0.30196078, 0.48627451],\n",
              "         [0.13333333, 0.32941176, 0.50588235],\n",
              "         [0.08235294, 0.2627451 , 0.43137255]]],\n",
              "\n",
              "\n",
              "       [[[0.92156863, 0.92156863, 0.92156863],\n",
              "         [0.90588235, 0.90588235, 0.90588235],\n",
              "         [0.90980392, 0.90980392, 0.90980392],\n",
              "         ...,\n",
              "         [0.91372549, 0.91372549, 0.91372549],\n",
              "         [0.91372549, 0.91372549, 0.91372549],\n",
              "         [0.90980392, 0.90980392, 0.90980392]],\n",
              "\n",
              "        [[0.93333333, 0.93333333, 0.93333333],\n",
              "         [0.92156863, 0.92156863, 0.92156863],\n",
              "         [0.92156863, 0.92156863, 0.92156863],\n",
              "         ...,\n",
              "         [0.9254902 , 0.9254902 , 0.9254902 ],\n",
              "         [0.9254902 , 0.9254902 , 0.9254902 ],\n",
              "         [0.92156863, 0.92156863, 0.92156863]],\n",
              "\n",
              "        [[0.92941176, 0.92941176, 0.92941176],\n",
              "         [0.91764706, 0.91764706, 0.91764706],\n",
              "         [0.91764706, 0.91764706, 0.91764706],\n",
              "         ...,\n",
              "         [0.92156863, 0.92156863, 0.92156863],\n",
              "         [0.92156863, 0.92156863, 0.92156863],\n",
              "         [0.91764706, 0.91764706, 0.91764706]],\n",
              "\n",
              "        ...,\n",
              "\n",
              "        [[0.34117647, 0.38823529, 0.34901961],\n",
              "         [0.16862745, 0.2       , 0.14509804],\n",
              "         [0.0745098 , 0.09019608, 0.04313725],\n",
              "         ...,\n",
              "         [0.6627451 , 0.72156863, 0.70196078],\n",
              "         [0.71372549, 0.77254902, 0.75686275],\n",
              "         [0.7372549 , 0.79215686, 0.78823529]],\n",
              "\n",
              "        [[0.32156863, 0.37647059, 0.32156863],\n",
              "         [0.18039216, 0.22352941, 0.14117647],\n",
              "         [0.14117647, 0.17254902, 0.08627451],\n",
              "         ...,\n",
              "         [0.68235294, 0.74117647, 0.71764706],\n",
              "         [0.7254902 , 0.78431373, 0.76862745],\n",
              "         [0.73333333, 0.79215686, 0.78431373]],\n",
              "\n",
              "        [[0.33333333, 0.39607843, 0.3254902 ],\n",
              "         [0.24313725, 0.29411765, 0.18823529],\n",
              "         [0.22745098, 0.2627451 , 0.14901961],\n",
              "         ...,\n",
              "         [0.65882353, 0.71764706, 0.69803922],\n",
              "         [0.70588235, 0.76470588, 0.74901961],\n",
              "         [0.72941176, 0.78431373, 0.78039216]]],\n",
              "\n",
              "\n",
              "       [[[0.61960784, 0.74509804, 0.87058824],\n",
              "         [0.61960784, 0.73333333, 0.85490196],\n",
              "         [0.54509804, 0.65098039, 0.76078431],\n",
              "         ...,\n",
              "         [0.89411765, 0.90588235, 0.91764706],\n",
              "         [0.92941176, 0.9372549 , 0.95294118],\n",
              "         [0.93333333, 0.94509804, 0.96470588]],\n",
              "\n",
              "        [[0.66666667, 0.78431373, 0.89803922],\n",
              "         [0.6745098 , 0.78039216, 0.88627451],\n",
              "         [0.59215686, 0.69019608, 0.78823529],\n",
              "         ...,\n",
              "         [0.90980392, 0.90980392, 0.9254902 ],\n",
              "         [0.96470588, 0.96470588, 0.98039216],\n",
              "         [0.96470588, 0.96862745, 0.98431373]],\n",
              "\n",
              "        [[0.68235294, 0.78823529, 0.88235294],\n",
              "         [0.69019608, 0.78431373, 0.87058824],\n",
              "         [0.61568627, 0.70196078, 0.78039216],\n",
              "         ...,\n",
              "         [0.90196078, 0.89803922, 0.90980392],\n",
              "         [0.98039216, 0.97647059, 0.98431373],\n",
              "         [0.96078431, 0.95686275, 0.96862745]],\n",
              "\n",
              "        ...,\n",
              "\n",
              "        [[0.12156863, 0.15686275, 0.17647059],\n",
              "         [0.11764706, 0.15294118, 0.17254902],\n",
              "         [0.10196078, 0.1372549 , 0.15686275],\n",
              "         ...,\n",
              "         [0.14509804, 0.15686275, 0.18039216],\n",
              "         [0.03529412, 0.05098039, 0.05490196],\n",
              "         [0.01568627, 0.02745098, 0.01960784]],\n",
              "\n",
              "        [[0.09019608, 0.13333333, 0.15294118],\n",
              "         [0.10588235, 0.14901961, 0.16862745],\n",
              "         [0.09803922, 0.14117647, 0.16078431],\n",
              "         ...,\n",
              "         [0.0745098 , 0.07843137, 0.09411765],\n",
              "         [0.01568627, 0.02352941, 0.01176471],\n",
              "         [0.01960784, 0.02745098, 0.01176471]],\n",
              "\n",
              "        [[0.10980392, 0.16078431, 0.18431373],\n",
              "         [0.11764706, 0.16862745, 0.19607843],\n",
              "         [0.1254902 , 0.17647059, 0.20392157],\n",
              "         ...,\n",
              "         [0.01960784, 0.02352941, 0.03137255],\n",
              "         [0.01568627, 0.01960784, 0.01176471],\n",
              "         [0.02745098, 0.03137255, 0.02745098]]],\n",
              "\n",
              "\n",
              "       ...,\n",
              "\n",
              "\n",
              "       [[[0.07843137, 0.05882353, 0.04705882],\n",
              "         [0.0745098 , 0.05490196, 0.04313725],\n",
              "         [0.05882353, 0.05490196, 0.04313725],\n",
              "         ...,\n",
              "         [0.03921569, 0.03529412, 0.02745098],\n",
              "         [0.04705882, 0.04313725, 0.03529412],\n",
              "         [0.05098039, 0.04705882, 0.03921569]],\n",
              "\n",
              "        [[0.08235294, 0.0627451 , 0.05098039],\n",
              "         [0.07843137, 0.0627451 , 0.05098039],\n",
              "         [0.07058824, 0.06666667, 0.04705882],\n",
              "         ...,\n",
              "         [0.03921569, 0.03529412, 0.02745098],\n",
              "         [0.03921569, 0.03529412, 0.02745098],\n",
              "         [0.04705882, 0.04313725, 0.03529412]],\n",
              "\n",
              "        [[0.08235294, 0.0627451 , 0.05098039],\n",
              "         [0.08235294, 0.06666667, 0.04705882],\n",
              "         [0.07843137, 0.07058824, 0.04313725],\n",
              "         ...,\n",
              "         [0.04705882, 0.04313725, 0.03529412],\n",
              "         [0.04705882, 0.04313725, 0.03529412],\n",
              "         [0.05098039, 0.04705882, 0.03921569]],\n",
              "\n",
              "        ...,\n",
              "\n",
              "        [[0.12941176, 0.09803922, 0.05098039],\n",
              "         [0.13333333, 0.10196078, 0.05882353],\n",
              "         [0.13333333, 0.10196078, 0.05882353],\n",
              "         ...,\n",
              "         [0.10980392, 0.09803922, 0.20392157],\n",
              "         [0.11372549, 0.09803922, 0.22745098],\n",
              "         [0.09019608, 0.07843137, 0.16470588]],\n",
              "\n",
              "        [[0.12941176, 0.09803922, 0.05490196],\n",
              "         [0.13333333, 0.10196078, 0.05882353],\n",
              "         [0.13333333, 0.10196078, 0.05882353],\n",
              "         ...,\n",
              "         [0.10588235, 0.09411765, 0.20392157],\n",
              "         [0.10588235, 0.09411765, 0.21960784],\n",
              "         [0.09803922, 0.08627451, 0.18431373]],\n",
              "\n",
              "        [[0.12156863, 0.09019608, 0.04705882],\n",
              "         [0.1254902 , 0.09411765, 0.05098039],\n",
              "         [0.12941176, 0.09803922, 0.05490196],\n",
              "         ...,\n",
              "         [0.09411765, 0.09019608, 0.19607843],\n",
              "         [0.10196078, 0.09019608, 0.20784314],\n",
              "         [0.09803922, 0.07843137, 0.18431373]]],\n",
              "\n",
              "\n",
              "       [[[0.09803922, 0.15686275, 0.04705882],\n",
              "         [0.05882353, 0.14117647, 0.01176471],\n",
              "         [0.09019608, 0.16078431, 0.07058824],\n",
              "         ...,\n",
              "         [0.23921569, 0.32156863, 0.30588235],\n",
              "         [0.36078431, 0.44313725, 0.43921569],\n",
              "         [0.29411765, 0.34901961, 0.36078431]],\n",
              "\n",
              "        [[0.04705882, 0.09803922, 0.02352941],\n",
              "         [0.07843137, 0.14509804, 0.02745098],\n",
              "         [0.09411765, 0.14117647, 0.05882353],\n",
              "         ...,\n",
              "         [0.45098039, 0.5254902 , 0.54117647],\n",
              "         [0.58431373, 0.65882353, 0.69411765],\n",
              "         [0.40784314, 0.45882353, 0.51372549]],\n",
              "\n",
              "        [[0.04705882, 0.09803922, 0.04313725],\n",
              "         [0.05882353, 0.11372549, 0.02352941],\n",
              "         [0.13333333, 0.15686275, 0.09411765],\n",
              "         ...,\n",
              "         [0.60392157, 0.6745098 , 0.71372549],\n",
              "         [0.61568627, 0.68627451, 0.75294118],\n",
              "         [0.45490196, 0.50588235, 0.59215686]],\n",
              "\n",
              "        ...,\n",
              "\n",
              "        [[0.39215686, 0.50588235, 0.31764706],\n",
              "         [0.40392157, 0.51764706, 0.32941176],\n",
              "         [0.40784314, 0.5254902 , 0.3372549 ],\n",
              "         ...,\n",
              "         [0.38039216, 0.50196078, 0.32941176],\n",
              "         [0.38431373, 0.49411765, 0.32941176],\n",
              "         [0.35686275, 0.4745098 , 0.30980392]],\n",
              "\n",
              "        [[0.40392157, 0.51764706, 0.3254902 ],\n",
              "         [0.40784314, 0.51372549, 0.3254902 ],\n",
              "         [0.41960784, 0.52941176, 0.34117647],\n",
              "         ...,\n",
              "         [0.39607843, 0.51764706, 0.34117647],\n",
              "         [0.38823529, 0.49803922, 0.32941176],\n",
              "         [0.36078431, 0.4745098 , 0.30980392]],\n",
              "\n",
              "        [[0.37254902, 0.49411765, 0.30588235],\n",
              "         [0.37254902, 0.48235294, 0.29803922],\n",
              "         [0.39607843, 0.50196078, 0.31764706],\n",
              "         ...,\n",
              "         [0.36470588, 0.48627451, 0.31372549],\n",
              "         [0.37254902, 0.48235294, 0.31764706],\n",
              "         [0.36078431, 0.47058824, 0.31372549]]],\n",
              "\n",
              "\n",
              "       [[[0.28627451, 0.30588235, 0.29411765],\n",
              "         [0.38431373, 0.40392157, 0.44313725],\n",
              "         [0.38823529, 0.41568627, 0.44705882],\n",
              "         ...,\n",
              "         [0.52941176, 0.58823529, 0.59607843],\n",
              "         [0.52941176, 0.58431373, 0.60392157],\n",
              "         [0.79607843, 0.84313725, 0.8745098 ]],\n",
              "\n",
              "        [[0.27058824, 0.28627451, 0.2745098 ],\n",
              "         [0.32941176, 0.34901961, 0.38039216],\n",
              "         [0.26666667, 0.29411765, 0.31764706],\n",
              "         ...,\n",
              "         [0.33333333, 0.37254902, 0.34901961],\n",
              "         [0.27843137, 0.32156863, 0.31372549],\n",
              "         [0.47058824, 0.52156863, 0.52941176]],\n",
              "\n",
              "        [[0.27058824, 0.28627451, 0.2745098 ],\n",
              "         [0.35294118, 0.37254902, 0.39215686],\n",
              "         [0.24313725, 0.27843137, 0.29019608],\n",
              "         ...,\n",
              "         [0.29019608, 0.31764706, 0.2745098 ],\n",
              "         [0.20784314, 0.24313725, 0.21176471],\n",
              "         [0.24313725, 0.29019608, 0.27058824]],\n",
              "\n",
              "        ...,\n",
              "\n",
              "        [[0.48235294, 0.50196078, 0.37647059],\n",
              "         [0.51764706, 0.51764706, 0.4       ],\n",
              "         [0.50588235, 0.50196078, 0.39215686],\n",
              "         ...,\n",
              "         [0.42352941, 0.41960784, 0.34509804],\n",
              "         [0.24313725, 0.23529412, 0.21568627],\n",
              "         [0.10588235, 0.10588235, 0.10980392]],\n",
              "\n",
              "        [[0.45098039, 0.4745098 , 0.35686275],\n",
              "         [0.48235294, 0.48627451, 0.37254902],\n",
              "         [0.50588235, 0.49411765, 0.38823529],\n",
              "         ...,\n",
              "         [0.45098039, 0.45490196, 0.36862745],\n",
              "         [0.25882353, 0.25490196, 0.23137255],\n",
              "         [0.10588235, 0.10588235, 0.10588235]],\n",
              "\n",
              "        [[0.45490196, 0.47058824, 0.35294118],\n",
              "         [0.4745098 , 0.47843137, 0.36862745],\n",
              "         [0.50588235, 0.50196078, 0.39607843],\n",
              "         ...,\n",
              "         [0.45490196, 0.45098039, 0.36862745],\n",
              "         [0.26666667, 0.25490196, 0.22745098],\n",
              "         [0.10588235, 0.10196078, 0.10196078]]]])"
            ]
          },
          "metadata": {},
          "execution_count": 6
        }
      ]
    },
    {
      "cell_type": "code",
      "source": [
        " tf.config.experimental.list_physical_devices()"
      ],
      "metadata": {
        "colab": {
          "base_uri": "https://localhost:8080/"
        },
        "id": "C-JgAUAlfRkx",
        "outputId": "eb8950c1-59bf-45b1-fb73-c14018aa616f"
      },
      "execution_count": null,
      "outputs": [
        {
          "output_type": "execute_result",
          "data": {
            "text/plain": [
              "[PhysicalDevice(name='/physical_device:CPU:0', device_type='CPU'),\n",
              " PhysicalDevice(name='/physical_device:GPU:0', device_type='GPU')]"
            ]
          },
          "metadata": {},
          "execution_count": 9
        }
      ]
    },
    {
      "cell_type": "code",
      "source": [
        "tf.test.is_built_with_cuda()"
      ],
      "metadata": {
        "colab": {
          "base_uri": "https://localhost:8080/"
        },
        "id": "97trJXRcoe40",
        "outputId": "45118428-e73f-4f1a-ff72-b5d8f75c5f41"
      },
      "execution_count": null,
      "outputs": [
        {
          "output_type": "execute_result",
          "data": {
            "text/plain": [
              "True"
            ]
          },
          "metadata": {},
          "execution_count": 10
        }
      ]
    },
    {
      "cell_type": "markdown",
      "source": [
        "**One Hot encoding of y values**"
      ],
      "metadata": {
        "id": "errgy6ZQ2KCn"
      }
    },
    {
      "cell_type": "code",
      "source": [
        "from tensorflow import keras"
      ],
      "metadata": {
        "id": "4EPROXsn2gf8"
      },
      "execution_count": null,
      "outputs": []
    },
    {
      "cell_type": "code",
      "source": [
        "y_train_categorical = keras.utils.to_categorical(\n",
        "    Y_train, num_classes=10, dtype='float32'\n",
        ")\n",
        "y_test_categorical = keras.utils.to_categorical(\n",
        "    Y_test, num_classes=10, dtype='float32'\n",
        ")\n",
        "\n",
        "y_train_categorical[0:10]"
      ],
      "metadata": {
        "colab": {
          "base_uri": "https://localhost:8080/"
        },
        "id": "cP7yiNm-s3NC",
        "outputId": "a56672ec-795e-4c59-c661-6768025136c1"
      },
      "execution_count": null,
      "outputs": [
        {
          "output_type": "execute_result",
          "data": {
            "text/plain": [
              "array([[0., 0., 0., 0., 0., 0., 1., 0., 0., 0.],\n",
              "       [0., 0., 0., 0., 0., 0., 0., 0., 0., 1.],\n",
              "       [0., 0., 0., 0., 0., 0., 0., 0., 0., 1.],\n",
              "       [0., 0., 0., 0., 1., 0., 0., 0., 0., 0.],\n",
              "       [0., 1., 0., 0., 0., 0., 0., 0., 0., 0.],\n",
              "       [0., 1., 0., 0., 0., 0., 0., 0., 0., 0.],\n",
              "       [0., 0., 1., 0., 0., 0., 0., 0., 0., 0.],\n",
              "       [0., 0., 0., 0., 0., 0., 0., 1., 0., 0.],\n",
              "       [0., 0., 0., 0., 0., 0., 0., 0., 1., 0.],\n",
              "       [0., 0., 0., 1., 0., 0., 0., 0., 0., 0.]], dtype=float32)"
            ]
          },
          "metadata": {},
          "execution_count": 12
        }
      ]
    },
    {
      "cell_type": "markdown",
      "source": [
        "# ANN"
      ],
      "metadata": {
        "id": "Q0BufK2j3C1t"
      }
    },
    {
      "cell_type": "markdown",
      "source": [
        ""
      ],
      "metadata": {
        "id": "eyjxFEtq3CpQ"
      }
    },
    {
      "cell_type": "code",
      "source": [
        "def get_model():\n",
        "    model = keras.Sequential([\n",
        "            keras.layers.Flatten(input_shape=(32,32,3)),\n",
        "            keras.layers.Dense(3000, activation='relu'),\n",
        "            keras.layers.Dense(1000, activation='relu'),\n",
        "            keras.layers.Dense(10, activation='sigmoid')    \n",
        "        ])\n",
        "\n",
        "    model.compile(optimizer='SGD',\n",
        "                  loss='categorical_crossentropy',\n",
        "                  metrics=['accuracy'])\n",
        "    return model"
      ],
      "metadata": {
        "id": "Ip_ec0G320Kx"
      },
      "execution_count": null,
      "outputs": []
    },
    {
      "cell_type": "code",
      "source": [
        "get_model().fit(X_train, y_train_categorical, epochs=5)"
      ],
      "metadata": {
        "colab": {
          "base_uri": "https://localhost:8080/"
        },
        "id": "Ql-i-hij3h1O",
        "outputId": "afee8e38-4762-4b8d-a20e-e76daf2aee1b"
      },
      "execution_count": null,
      "outputs": [
        {
          "output_type": "stream",
          "name": "stdout",
          "text": [
            "Epoch 1/5\n",
            "1563/1563 [==============================] - 7s 4ms/step - loss: 1.8144 - accuracy: 0.3537\n",
            "Epoch 2/5\n",
            "1563/1563 [==============================] - 6s 4ms/step - loss: 1.6262 - accuracy: 0.4288\n",
            "Epoch 3/5\n",
            "1563/1563 [==============================] - 6s 4ms/step - loss: 1.5413 - accuracy: 0.4557\n",
            "Epoch 4/5\n",
            "1563/1563 [==============================] - 6s 4ms/step - loss: 1.4823 - accuracy: 0.4766\n",
            "Epoch 5/5\n",
            "1563/1563 [==============================] - 6s 4ms/step - loss: 1.4324 - accuracy: 0.4943\n"
          ]
        },
        {
          "output_type": "execute_result",
          "data": {
            "text/plain": [
              "<keras.callbacks.History at 0x7fb7a9d253d0>"
            ]
          },
          "metadata": {},
          "execution_count": 14
        }
      ]
    },
    {
      "cell_type": "markdown",
      "source": [
        "**Measuring CPU vs GPU time for training the model**"
      ],
      "metadata": {
        "id": "YvJz_I5c4fYJ"
      }
    },
    {
      "cell_type": "code",
      "source": [
        "%%timeit -n1 -r1 \n",
        "with tf.device('/CPU:0'):\n",
        "    cpu_model = get_model()\n",
        "    cpu_model.fit(X_train, y_train_categorical, epochs=1)"
      ],
      "metadata": {
        "colab": {
          "base_uri": "https://localhost:8080/"
        },
        "id": "SJyYHFj14WwR",
        "outputId": "4d4e9b38-85b5-4c74-cf7b-30e0b9bfc77d"
      },
      "execution_count": null,
      "outputs": [
        {
          "output_type": "stream",
          "name": "stdout",
          "text": [
            "1563/1563 [==============================] - 85s 54ms/step - loss: 1.8103 - accuracy: 0.3569\n",
            "1 loop, best of 1: 1min 25s per loop\n"
          ]
        }
      ]
    },
    {
      "cell_type": "code",
      "source": [
        "%%timeit -n1 -r1 \n",
        "with tf.device('/GPU:0'):\n",
        "    cpu_model = get_model()\n",
        "    cpu_model.fit(X_train, y_train_categorical, epochs=1)"
      ],
      "metadata": {
        "colab": {
          "base_uri": "https://localhost:8080/"
        },
        "id": "MtOuZHFJ5NS2",
        "outputId": "5ade476b-ef0e-4745-8f3f-e0ac68134e27"
      },
      "execution_count": null,
      "outputs": [
        {
          "output_type": "stream",
          "name": "stdout",
          "text": [
            "1563/1563 [==============================] - 6s 4ms/step - loss: 1.8109 - accuracy: 0.3532\n",
            "1 loop, best of 1: 11.6 s per loop\n"
          ]
        }
      ]
    },
    {
      "cell_type": "markdown",
      "source": [
        "![image.png](data:image/png;base64,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)"
      ],
      "metadata": {
        "id": "EVlBfPpheoB_"
      }
    },
    {
      "cell_type": "markdown",
      "source": [
        "## CNN"
      ],
      "metadata": {
        "id": "u6-XRKTAwD7L"
      }
    },
    {
      "cell_type": "code",
      "source": [
        "Y_train=Y_train.reshape(-1)\n",
        "Y_train[:5]"
      ],
      "metadata": {
        "id": "49ak318k_CyR",
        "colab": {
          "base_uri": "https://localhost:8080/"
        },
        "outputId": "6c8b2042-ceb1-4970-bdbf-3290bef127ff"
      },
      "execution_count": null,
      "outputs": [
        {
          "output_type": "execute_result",
          "data": {
            "text/plain": [
              "array([6, 9, 9, 4, 1], dtype=uint8)"
            ]
          },
          "metadata": {},
          "execution_count": 7
        }
      ]
    },
    {
      "cell_type": "code",
      "source": [
        "cnn = models.Sequential([\n",
        "    layers.Conv2D(filters=32, kernel_size=(3, 3), activation='relu', input_shape=(32, 32, 3)),\n",
        "    layers.MaxPooling2D((2, 2)),\n",
        "    \n",
        "    layers.Conv2D(filters=64, kernel_size=(3, 3), activation='relu'),\n",
        "    layers.MaxPooling2D((2, 2)),\n",
        "    \n",
        "    layers.Flatten(),\n",
        "    layers.Dense(64, activation='relu'),\n",
        "    layers.Dense(10, activation='softmax')\n",
        "])"
      ],
      "metadata": {
        "id": "cNd7d_lbx5yd"
      },
      "execution_count": null,
      "outputs": []
    },
    {
      "cell_type": "code",
      "source": [
        "cnn.compile(optimizer='adam',\n",
        "              loss='sparse_categorical_crossentropy',\n",
        "              metrics=['accuracy'])"
      ],
      "metadata": {
        "id": "4XbYLCHnx--_"
      },
      "execution_count": null,
      "outputs": []
    },
    {
      "cell_type": "code",
      "source": [
        "cnn.fit(X_train, Y_train, epochs=5)"
      ],
      "metadata": {
        "colab": {
          "base_uri": "https://localhost:8080/"
        },
        "id": "EzntmBtFynCX",
        "outputId": "9bfe1c80-9e5f-4768-be2a-63461fedadcc"
      },
      "execution_count": null,
      "outputs": [
        {
          "output_type": "stream",
          "name": "stdout",
          "text": [
            "Epoch 1/5\n",
            "1563/1563 [==============================] - 8s 4ms/step - loss: 1.4843 - accuracy: 0.4672\n",
            "Epoch 2/5\n",
            "1563/1563 [==============================] - 6s 4ms/step - loss: 1.1331 - accuracy: 0.6033\n",
            "Epoch 3/5\n",
            "1563/1563 [==============================] - 6s 4ms/step - loss: 0.9996 - accuracy: 0.6535\n",
            "Epoch 4/5\n",
            "1563/1563 [==============================] - 6s 4ms/step - loss: 0.9153 - accuracy: 0.6824\n",
            "Epoch 5/5\n",
            "1563/1563 [==============================] - 6s 4ms/step - loss: 0.8510 - accuracy: 0.7052\n"
          ]
        },
        {
          "output_type": "execute_result",
          "data": {
            "text/plain": [
              "<keras.callbacks.History at 0x7fdea0068c90>"
            ]
          },
          "metadata": {},
          "execution_count": 10
        }
      ]
    },
    {
      "cell_type": "code",
      "source": [
        "cnn.evaluate(X_test,Y_test)"
      ],
      "metadata": {
        "colab": {
          "base_uri": "https://localhost:8080/"
        },
        "id": "72wXxcoBy9Hm",
        "outputId": "550b26ce-5f41-4f59-de8e-b4bdd10bf0b1"
      },
      "execution_count": null,
      "outputs": [
        {
          "output_type": "stream",
          "name": "stdout",
          "text": [
            "313/313 [==============================] - 1s 3ms/step - loss: 0.9389 - accuracy: 0.6766\n"
          ]
        },
        {
          "output_type": "execute_result",
          "data": {
            "text/plain": [
              "[0.9389200210571289, 0.6765999794006348]"
            ]
          },
          "metadata": {},
          "execution_count": 21
        }
      ]
    },
    {
      "cell_type": "markdown",
      "source": [
        "**So, accuracy in CNN(70%) is much greater than ANN(35%)**\n"
      ],
      "metadata": {
        "id": "MTkf0yNO5NuP"
      }
    },
    {
      "cell_type": "code",
      "source": [
        "y_pred = cnn.predict(X_test)\n",
        "y_pred[:5]"
      ],
      "metadata": {
        "colab": {
          "base_uri": "https://localhost:8080/"
        },
        "id": "YeqBzaF2zZI6",
        "outputId": "442772df-7b4f-4b89-863d-edc1aabaf38a"
      },
      "execution_count": null,
      "outputs": [
        {
          "output_type": "execute_result",
          "data": {
            "text/plain": [
              "array([[2.5715213e-03, 5.5774546e-04, 6.8715663e-04, 7.7056527e-01,\n",
              "        4.5486528e-04, 2.0649014e-01, 5.6383768e-03, 2.0426915e-04,\n",
              "        1.1287217e-02, 1.5434456e-03],\n",
              "       [1.6959094e-01, 5.9080648e-01, 2.2111989e-04, 5.3384378e-05,\n",
              "        1.1480496e-04, 2.7038268e-06, 2.1985709e-06, 5.3294311e-06,\n",
              "        2.0610523e-01, 3.3097792e-02],\n",
              "       [2.9833829e-01, 2.4502099e-01, 3.9802762e-03, 4.7651394e-03,\n",
              "        5.0278422e-03, 7.7277492e-04, 1.8621156e-04, 2.8457418e-03,\n",
              "        3.9220953e-01, 4.6853181e-02],\n",
              "       [9.1168404e-01, 1.4018891e-02, 5.1031583e-03, 1.4711244e-03,\n",
              "        4.1788602e-03, 3.6194106e-05, 2.2040491e-04, 1.4847255e-04,\n",
              "        6.2471561e-02, 6.6729588e-04],\n",
              "       [2.3079101e-05, 3.8813837e-04, 1.0962582e-01, 7.2214961e-02,\n",
              "        2.7070859e-01, 3.6962584e-02, 5.0624269e-01, 2.2010244e-03,\n",
              "        1.5731836e-03, 5.9953018e-05]], dtype=float32)"
            ]
          },
          "metadata": {},
          "execution_count": 22
        }
      ]
    },
    {
      "cell_type": "markdown",
      "source": [
        "\n",
        "\n"
      ],
      "metadata": {
        "id": "PJfK3ZUp4n0c"
      }
    },
    {
      "cell_type": "code",
      "source": [
        "y_classes = [np.argmax(element) for element in y_pred]\n",
        "y_classes[:5]"
      ],
      "metadata": {
        "colab": {
          "base_uri": "https://localhost:8080/"
        },
        "id": "uXLNTOtqzopl",
        "outputId": "3dfb9841-b2bd-4f57-f19e-aef19ad8fd2c"
      },
      "execution_count": null,
      "outputs": [
        {
          "output_type": "execute_result",
          "data": {
            "text/plain": [
              "[3, 1, 8, 0, 6]"
            ]
          },
          "metadata": {},
          "execution_count": 23
        }
      ]
    },
    {
      "cell_type": "code",
      "source": [
        "y_test=Y_test.reshape(-1)\n",
        "y_test[:5]"
      ],
      "metadata": {
        "colab": {
          "base_uri": "https://localhost:8080/"
        },
        "id": "0J4uknIx0P1r",
        "outputId": "d353655e-37dc-4cfa-db9a-a4769fb206fd"
      },
      "execution_count": null,
      "outputs": [
        {
          "output_type": "execute_result",
          "data": {
            "text/plain": [
              "array([3, 8, 8, 0, 6], dtype=uint8)"
            ]
          },
          "metadata": {},
          "execution_count": 24
        }
      ]
    },
    {
      "cell_type": "code",
      "source": [
        "from sklearn.metrics import classification_report,confusion_matrix\n",
        "print(\"Classification report :\\n\",classification_report(y_test,y_classes))"
      ],
      "metadata": {
        "colab": {
          "base_uri": "https://localhost:8080/"
        },
        "id": "KQKiFBuI0Yu2",
        "outputId": "c78e3cfd-be66-4957-9836-96890eb89995"
      },
      "execution_count": null,
      "outputs": [
        {
          "output_type": "stream",
          "name": "stdout",
          "text": [
            "Classification report :\n",
            "               precision    recall  f1-score   support\n",
            "\n",
            "           0       0.70      0.77      0.74      1000\n",
            "           1       0.72      0.87      0.79      1000\n",
            "           2       0.50      0.68      0.58      1000\n",
            "           3       0.53      0.46      0.49      1000\n",
            "           4       0.71      0.48      0.58      1000\n",
            "           5       0.55      0.63      0.59      1000\n",
            "           6       0.76      0.76      0.76      1000\n",
            "           7       0.76      0.71      0.73      1000\n",
            "           8       0.85      0.72      0.78      1000\n",
            "           9       0.80      0.70      0.74      1000\n",
            "\n",
            "    accuracy                           0.68     10000\n",
            "   macro avg       0.69      0.68      0.68     10000\n",
            "weighted avg       0.69      0.68      0.68     10000\n",
            "\n"
          ]
        }
      ]
    },
    {
      "cell_type": "code",
      "source": [
        "cm=confusion_matrix(y_test,y_classes)"
      ],
      "metadata": {
        "id": "3qCt94qn2r6A"
      },
      "execution_count": null,
      "outputs": []
    },
    {
      "cell_type": "code",
      "source": [
        "import seaborn as sn\n",
        "sn.heatmap(cm,annot=True,fmt='d')\n",
        "plt.xlabel('Predicted')\n",
        "plt.ylabel('Truth')"
      ],
      "metadata": {
        "colab": {
          "base_uri": "https://localhost:8080/",
          "height": 296
        },
        "id": "o47IYKis2jQc",
        "outputId": "b813a828-4d41-43c7-ad0e-89e43d2242cf"
      },
      "execution_count": null,
      "outputs": [
        {
          "output_type": "execute_result",
          "data": {
            "text/plain": [
              "Text(33.0, 0.5, 'Truth')"
            ]
          },
          "metadata": {},
          "execution_count": 27
        },
        {
          "output_type": "display_data",
          "data": {
            "text/plain": [
              "<Figure size 432x288 with 2 Axes>"
            ],
            "image/png": "[encoded data removed]"
          },
          "metadata": {
            "needs_background": "light"
          }
        }
      ]
    },
    {
      "cell_type": "code",
      "source": [
        "cnn.summary()"
      ],
      "metadata": {
        "colab": {
          "base_uri": "https://localhost:8080/"
        },
        "id": "puZCpHgMEGx2",
        "outputId": "49906700-74c1-4ba9-8f30-42b06ded0d67"
      },
      "execution_count": null,
      "outputs": [
        {
          "output_type": "stream",
          "name": "stdout",
          "text": [
            "Model: \"sequential_3\"\n",
            "_________________________________________________________________\n",
            " Layer (type)                Output Shape              Param #   \n",
            "=================================================================\n",
            " conv2d (Conv2D)             (None, 30, 30, 32)        896       \n",
            "                                                                 \n",
            " max_pooling2d (MaxPooling2D  (None, 15, 15, 32)       0         \n",
            " )                                                               \n",
            "                                                                 \n",
            " conv2d_1 (Conv2D)           (None, 13, 13, 64)        18496     \n",
            "                                                                 \n",
            " max_pooling2d_1 (MaxPooling  (None, 6, 6, 64)         0         \n",
            " 2D)                                                             \n",
            "                                                                 \n",
            " flatten_3 (Flatten)         (None, 2304)              0         \n",
            "                                                                 \n",
            " dense_9 (Dense)             (None, 64)                147520    \n",
            "                                                                 \n",
            " dense_10 (Dense)            (None, 10)                650       \n",
            "                                                                 \n",
            "=================================================================\n",
            "Total params: 167,562\n",
            "Trainable params: 167,562\n",
            "Non-trainable params: 0\n",
            "_________________________________________________________________\n"
          ]
        }
      ]
    }
  ]
}